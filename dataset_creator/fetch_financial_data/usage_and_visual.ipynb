{
 "cells": [
  {
   "cell_type": "code",
   "execution_count": 1,
   "id": "0c10e326",
   "metadata": {},
   "outputs": [],
   "source": [
    "from get_data_from_tv import save_close_prices"
   ]
  },
  {
   "cell_type": "code",
   "execution_count": 2,
   "id": "ae65d15b",
   "metadata": {},
   "outputs": [],
   "source": [
    "asset_dict={\"KOSPI200\":\"KRX\", \"KOSPI\":\"KRX\",\"KOSDAQ150\":\"KRX\"}\n",
    "interval=\"monthly\"\n",
    "data_dir=\"data/financial_data/krx_idx\"\n",
    "file_name=\"krx_idx.csv\""
   ]
  },
  {
   "cell_type": "code",
   "execution_count": 3,
   "id": "43913433",
   "metadata": {},
   "outputs": [
    {
     "name": "stderr",
     "output_type": "stream",
     "text": [
      "error while signin\n",
      "you are using nologin method, data you access may be limited\n"
     ]
    },
    {
     "name": "stdout",
     "output_type": "stream",
     "text": [
      "Fetching monthly data for 'KOSPI200' from 'KRX'...\n",
      "-> Success: Fetched 426 close prices for 'KOSPI200'.\n",
      "Fetching monthly data for 'KOSPI' from 'KRX'...\n"
     ]
    },
    {
     "name": "stderr",
     "output_type": "stream",
     "text": [
      "ERROR:tvDatafeed.main:Connection to remote host was lost.\n",
      "ERROR:tvDatafeed.main:no data, please check the exchange and symbol\n"
     ]
    },
    {
     "name": "stdout",
     "output_type": "stream",
     "text": [
      "-> Warning: No data returned for 'KOSPI'.\n",
      "Fetching monthly data for 'KOSDAQ150' from 'KRX'...\n"
     ]
    },
    {
     "name": "stderr",
     "output_type": "stream",
     "text": [
      "ERROR:tvDatafeed.main:Connection to remote host was lost.\n",
      "ERROR:tvDatafeed.main:no data, please check the exchange and symbol\n"
     ]
    },
    {
     "name": "stdout",
     "output_type": "stream",
     "text": [
      "-> Warning: No data returned for 'KOSDAQ150'.\n"
     ]
    }
   ],
   "source": [
    "save_close_prices(asset_dict=asset_dict, \n",
    "                   interval=interval, \n",
    "                   data_dir=data_dir, \n",
    "                   file_name=file_name)"
   ]
  },
  {
   "cell_type": "code",
   "execution_count": 4,
   "id": "ab7260f2",
   "metadata": {},
   "outputs": [
    {
     "name": "stdout",
     "output_type": "stream",
     "text": [
      "c:\\Users\\kim\\Desktop\\taekyeong\\GAEMI\\data\\financial_data\\krx_idx\\krx_idx.csv\n"
     ]
    },
    {
     "data": {
      "text/html": [
       "<div>\n",
       "<style scoped>\n",
       "    .dataframe tbody tr th:only-of-type {\n",
       "        vertical-align: middle;\n",
       "    }\n",
       "\n",
       "    .dataframe tbody tr th {\n",
       "        vertical-align: top;\n",
       "    }\n",
       "\n",
       "    .dataframe thead th {\n",
       "        text-align: right;\n",
       "    }\n",
       "</style>\n",
       "<table border=\"1\" class=\"dataframe\">\n",
       "  <thead>\n",
       "    <tr style=\"text-align: right;\">\n",
       "      <th></th>\n",
       "      <th>Date</th>\n",
       "      <th>KOSPI200</th>\n",
       "    </tr>\n",
       "  </thead>\n",
       "  <tbody>\n",
       "    <tr>\n",
       "      <th>0</th>\n",
       "      <td>1990-01-31</td>\n",
       "      <td>97.830002</td>\n",
       "    </tr>\n",
       "    <tr>\n",
       "      <th>1</th>\n",
       "      <td>1990-02-28</td>\n",
       "      <td>94.059998</td>\n",
       "    </tr>\n",
       "    <tr>\n",
       "      <th>2</th>\n",
       "      <td>1990-03-31</td>\n",
       "      <td>92.639999</td>\n",
       "    </tr>\n",
       "    <tr>\n",
       "      <th>3</th>\n",
       "      <td>1990-04-30</td>\n",
       "      <td>74.930000</td>\n",
       "    </tr>\n",
       "    <tr>\n",
       "      <th>4</th>\n",
       "      <td>1990-05-31</td>\n",
       "      <td>87.669998</td>\n",
       "    </tr>\n",
       "    <tr>\n",
       "      <th>5</th>\n",
       "      <td>1990-06-30</td>\n",
       "      <td>79.389999</td>\n",
       "    </tr>\n",
       "    <tr>\n",
       "      <th>6</th>\n",
       "      <td>1990-07-31</td>\n",
       "      <td>75.169998</td>\n",
       "    </tr>\n",
       "    <tr>\n",
       "      <th>7</th>\n",
       "      <td>1990-08-31</td>\n",
       "      <td>66.760002</td>\n",
       "    </tr>\n",
       "    <tr>\n",
       "      <th>8</th>\n",
       "      <td>1990-09-30</td>\n",
       "      <td>66.309998</td>\n",
       "    </tr>\n",
       "    <tr>\n",
       "      <th>9</th>\n",
       "      <td>1990-10-31</td>\n",
       "      <td>76.320000</td>\n",
       "    </tr>\n",
       "  </tbody>\n",
       "</table>\n",
       "</div>"
      ],
      "text/plain": [
       "         Date   KOSPI200\n",
       "0  1990-01-31  97.830002\n",
       "1  1990-02-28  94.059998\n",
       "2  1990-03-31  92.639999\n",
       "3  1990-04-30  74.930000\n",
       "4  1990-05-31  87.669998\n",
       "5  1990-06-30  79.389999\n",
       "6  1990-07-31  75.169998\n",
       "7  1990-08-31  66.760002\n",
       "8  1990-09-30  66.309998\n",
       "9  1990-10-31  76.320000"
      ]
     },
     "execution_count": 4,
     "metadata": {},
     "output_type": "execute_result"
    }
   ],
   "source": [
    "import os\n",
    "import pandas as pd\n",
    "data_dir = os.path.join(os.getcwd(), '../..', data_dir)\n",
    "file_path = os.path.abspath(os.path.join(data_dir, file_name))\n",
    "print(file_path)\n",
    "df = pd.read_csv(file_path)\n",
    "df.head(10)"
   ]
  },
  {
   "cell_type": "code",
   "execution_count": null,
   "id": "3b28e9a8",
   "metadata": {},
   "outputs": [],
   "source": []
  },
  {
   "cell_type": "code",
   "execution_count": 5,
   "id": "691f0825",
   "metadata": {},
   "outputs": [
    {
     "data": {
      "text/html": [
       "<div>\n",
       "<style scoped>\n",
       "    .dataframe tbody tr th:only-of-type {\n",
       "        vertical-align: middle;\n",
       "    }\n",
       "\n",
       "    .dataframe tbody tr th {\n",
       "        vertical-align: top;\n",
       "    }\n",
       "\n",
       "    .dataframe thead th {\n",
       "        text-align: right;\n",
       "    }\n",
       "</style>\n",
       "<table border=\"1\" class=\"dataframe\">\n",
       "  <thead>\n",
       "    <tr style=\"text-align: right;\">\n",
       "      <th></th>\n",
       "      <th>Date</th>\n",
       "      <th>KOSPI200</th>\n",
       "    </tr>\n",
       "  </thead>\n",
       "  <tbody>\n",
       "    <tr>\n",
       "      <th>416</th>\n",
       "      <td>2024-09-30</td>\n",
       "      <td>344.76</td>\n",
       "    </tr>\n",
       "    <tr>\n",
       "      <th>417</th>\n",
       "      <td>2024-10-31</td>\n",
       "      <td>339.32</td>\n",
       "    </tr>\n",
       "    <tr>\n",
       "      <th>418</th>\n",
       "      <td>2024-11-30</td>\n",
       "      <td>325.45</td>\n",
       "    </tr>\n",
       "    <tr>\n",
       "      <th>419</th>\n",
       "      <td>2024-12-31</td>\n",
       "      <td>317.82</td>\n",
       "    </tr>\n",
       "    <tr>\n",
       "      <th>420</th>\n",
       "      <td>2025-01-31</td>\n",
       "      <td>333.36</td>\n",
       "    </tr>\n",
       "    <tr>\n",
       "      <th>421</th>\n",
       "      <td>2025-02-28</td>\n",
       "      <td>334.27</td>\n",
       "    </tr>\n",
       "    <tr>\n",
       "      <th>422</th>\n",
       "      <td>2025-03-31</td>\n",
       "      <td>332.40</td>\n",
       "    </tr>\n",
       "    <tr>\n",
       "      <th>423</th>\n",
       "      <td>2025-04-30</td>\n",
       "      <td>338.74</td>\n",
       "    </tr>\n",
       "    <tr>\n",
       "      <th>424</th>\n",
       "      <td>2025-05-31</td>\n",
       "      <td>359.62</td>\n",
       "    </tr>\n",
       "    <tr>\n",
       "      <th>425</th>\n",
       "      <td>2025-06-19</td>\n",
       "      <td>399.29</td>\n",
       "    </tr>\n",
       "  </tbody>\n",
       "</table>\n",
       "</div>"
      ],
      "text/plain": [
       "           Date  KOSPI200\n",
       "416  2024-09-30    344.76\n",
       "417  2024-10-31    339.32\n",
       "418  2024-11-30    325.45\n",
       "419  2024-12-31    317.82\n",
       "420  2025-01-31    333.36\n",
       "421  2025-02-28    334.27\n",
       "422  2025-03-31    332.40\n",
       "423  2025-04-30    338.74\n",
       "424  2025-05-31    359.62\n",
       "425  2025-06-19    399.29"
      ]
     },
     "execution_count": 5,
     "metadata": {},
     "output_type": "execute_result"
    }
   ],
   "source": [
    "df.tail(10)"
   ]
  },
  {
   "cell_type": "code",
   "execution_count": null,
   "id": "1e614c66",
   "metadata": {},
   "outputs": [],
   "source": []
  },
  {
   "cell_type": "code",
   "execution_count": null,
   "id": "4baf4f1f",
   "metadata": {},
   "outputs": [],
   "source": []
  },
  {
   "cell_type": "code",
   "execution_count": null,
   "id": "25d6ec65",
   "metadata": {},
   "outputs": [],
   "source": []
  },
  {
   "cell_type": "code",
   "execution_count": null,
   "id": "f9f8f0ce",
   "metadata": {},
   "outputs": [],
   "source": []
  }
 ],
 "metadata": {
  "kernelspec": {
   "display_name": "trade",
   "language": "python",
   "name": "python3"
  },
  "language_info": {
   "codemirror_mode": {
    "name": "ipython",
    "version": 3
   },
   "file_extension": ".py",
   "mimetype": "text/x-python",
   "name": "python",
   "nbconvert_exporter": "python",
   "pygments_lexer": "ipython3",
   "version": "3.10.18"
  }
 },
 "nbformat": 4,
 "nbformat_minor": 5
}
